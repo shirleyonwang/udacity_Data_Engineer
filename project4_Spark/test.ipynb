{
 "cells": [
  {
   "cell_type": "code",
   "execution_count": 1,
   "metadata": {
    "editable": true
   },
   "outputs": [],
   "source": [
    "import configparser\n",
    "from datetime import datetime\n",
    "import os\n",
    "from pyspark.sql import SparkSession\n",
    "from pyspark.sql.functions import udf, col\n",
    "from pyspark.sql.functions import year, month, dayofmonth, hour, weekofyear, date_format\n",
    "from pyspark.sql.types import StructType, StructField, StringType, DoubleType, LongType, TimestampType, IntegerType,DateType\n",
    "\n",
    "config = configparser.ConfigParser()\n",
    "config.read('dl.cfg')\n",
    "\n",
    "#spark.sparkContext.getConf().get('spark.driver.memory')\n",
    "#%%configure -f {\"driverMemory\": \"6000M\"}\n",
    "\n",
    "#print(config['KEYS']['AWS_ACCESS_KEY_ID'])\n",
    "\n",
    "os.environ['AWS_ACCESS_KEY_ID']=config['KEYS']['AWS_ACCESS_KEY_ID']\n",
    "os.environ['AWS_SECRET_ACCESS_KEY']=config['KEYS']['AWS_SECRET_ACCESS_KEY']\n"
   ]
  },
  {
   "cell_type": "code",
   "execution_count": 2,
   "metadata": {
    "editable": true
   },
   "outputs": [],
   "source": [
    "def create_spark_session():\n",
    "    spark = SparkSession \\\n",
    "        .builder \\\n",
    "        .config(\"spark.jars.packages\", \"org.apache.hadoop:hadoop-aws:2.7.0\") \\\n",
    "        .getOrCreate()\n",
    "    #mem= spark.sparkContext.getConf().get('spark.driver.memory')\n",
    "    #print('0000000000000')\n",
    "    return spark"
   ]
  },
  {
   "cell_type": "code",
   "execution_count": 3,
   "metadata": {
    "editable": true
   },
   "outputs": [],
   "source": [
    "spark = create_spark_session()\n",
    "input_data = \"s3a://udacity-dend/\"  "
   ]
  },
  {
   "cell_type": "code",
   "execution_count": 4,
   "metadata": {
    "editable": true
   },
   "outputs": [],
   "source": [
    "songdata_schema = StructType([\n",
    "        StructField(\"song_id\", StringType(), True),\n",
    "        StructField(\"title\", StringType(), True),\n",
    "        StructField(\"year\", StringType(), True),\n",
    "        StructField(\"duration\", DoubleType(), True),\n",
    "        StructField(\"artist_id\", StringType(), True),\n",
    "        StructField(\"artist_name\", StringType(), True),\n",
    "        StructField(\"artist_location\", StringType(), True),\n",
    "        StructField(\"artist_latitude\", DoubleType(), True),\n",
    "        StructField(\"artist_longitude\", DoubleType(), True),\n",
    "    ])\n",
    "    \n",
    "# get filepath to song data file\n",
    "song_data = os.path.join(input_data,\"song_data/A/A/B/*.json\")"
   ]
  },
  {
   "cell_type": "code",
   "execution_count": 5,
   "metadata": {
    "editable": true
   },
   "outputs": [],
   "source": [
    "df = spark.read.json(song_data, schema=songdata_schema)"
   ]
  },
  {
   "cell_type": "code",
   "execution_count": 6,
   "metadata": {
    "editable": true
   },
   "outputs": [
    {
     "data": {
      "text/plain": [
       "[Row(song_id='SOSIJKW12A8C1330E3', title='A God In An Alcove (Session Version)', year='0', duration=248.65914, artist_id='ARKIQCZ1187B9A7C7C', artist_name='Bauhaus', artist_location='Northampton, Northamptonshire, En', artist_latitude=52.23974, artist_longitude=-0.88576),\n",
       " Row(song_id='SODVVEL12A6D4F9EA0', title='Good Old Wagon (LP Version)', year='1964', duration=139.78077, artist_id='ARI9DQS1187B995625', artist_name='Judy Henske', artist_location='Chippewa Falls, WI', artist_latitude=44.93746, artist_longitude=-91.39251)]"
      ]
     },
     "execution_count": 6,
     "metadata": {},
     "output_type": "execute_result"
    }
   ],
   "source": [
    "df.take(2)"
   ]
  },
  {
   "cell_type": "code",
   "execution_count": 7,
   "metadata": {
    "editable": true
   },
   "outputs": [
    {
     "name": "stdout",
     "output_type": "stream",
     "text": [
      "root\n",
      " |-- song_id: string (nullable = true)\n",
      " |-- title: string (nullable = true)\n",
      " |-- year: string (nullable = true)\n",
      " |-- duration: double (nullable = true)\n",
      " |-- artist_id: string (nullable = true)\n",
      " |-- artist_name: string (nullable = true)\n",
      " |-- artist_location: string (nullable = true)\n",
      " |-- artist_latitude: double (nullable = true)\n",
      " |-- artist_longitude: double (nullable = true)\n",
      "\n"
     ]
    }
   ],
   "source": [
    "df.printSchema()"
   ]
  },
  {
   "cell_type": "code",
   "execution_count": 9,
   "metadata": {
    "editable": true
   },
   "outputs": [],
   "source": [
    "df.createOrReplaceTempView(\"song_table\")"
   ]
  },
  {
   "cell_type": "code",
   "execution_count": 10,
   "metadata": {
    "editable": true
   },
   "outputs": [
    {
     "name": "stdout",
     "output_type": "stream",
     "text": [
      "+------------------+--------------------+----+---------+------------------+-----------+--------------------+---------------+----------------+\n",
      "|           song_id|               title|year| duration|         artist_id|artist_name|     artist_location|artist_latitude|artist_longitude|\n",
      "+------------------+--------------------+----+---------+------------------+-----------+--------------------+---------------+----------------+\n",
      "|SOSIJKW12A8C1330E3|A God In An Alcov...|   0|248.65914|ARKIQCZ1187B9A7C7C|    Bauhaus|Northampton, Nort...|       52.23974|        -0.88576|\n",
      "|SODVVEL12A6D4F9EA0|Good Old Wagon (L...|1964|139.78077|ARI9DQS1187B995625|Judy Henske|  Chippewa Falls, WI|       44.93746|       -91.39251|\n",
      "+------------------+--------------------+----+---------+------------------+-----------+--------------------+---------------+----------------+\n",
      "\n"
     ]
    }
   ],
   "source": [
    "spark.sql(\"SELECT * FROM song_table LIMIT 2\").show()"
   ]
  },
  {
   "cell_type": "code",
   "execution_count": 16,
   "metadata": {
    "editable": true
   },
   "outputs": [],
   "source": [
    "song_table2 = spark.sql(\"select * from song_table\")"
   ]
  },
  {
   "cell_type": "code",
   "execution_count": 20,
   "metadata": {
    "editable": true
   },
   "outputs": [
    {
     "data": {
      "text/plain": [
       "Row(song_id='SOSIJKW12A8C1330E3', title='A God In An Alcove (Session Version)', year='0', duration=248.65914, artist_id='ARKIQCZ1187B9A7C7C', artist_name='Bauhaus', artist_location='Northampton, Northamptonshire, En', artist_latitude=52.23974, artist_longitude=-0.88576)"
      ]
     },
     "execution_count": 20,
     "metadata": {},
     "output_type": "execute_result"
    }
   ],
   "source": [
    "song_table2.head()"
   ]
  },
  {
   "cell_type": "code",
   "execution_count": null,
   "metadata": {
    "editable": true
   },
   "outputs": [],
   "source": []
  }
 ],
 "metadata": {
  "kernelspec": {
   "display_name": "Python 3",
   "language": "python",
   "name": "python3"
  },
  "language_info": {
   "codemirror_mode": {
    "name": "ipython",
    "version": 3
   },
   "file_extension": ".py",
   "mimetype": "text/x-python",
   "name": "python",
   "nbconvert_exporter": "python",
   "pygments_lexer": "ipython3",
   "version": "3.6.3"
  }
 },
 "nbformat": 4,
 "nbformat_minor": 4
}
